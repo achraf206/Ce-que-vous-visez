{
 "cells": [
  {
   "cell_type": "code",
   "execution_count": 1,
   "id": "3867d043-ae88-4db3-883a-13cd4e463751",
   "metadata": {},
   "outputs": [
    {
     "name": "stdout",
     "output_type": "stream",
     "text": [
      "Résultat = 36\n"
     ]
    }
   ],
   "source": [
    "liste_echantillons = [2, 3, 6]\n",
    "resultat = 1\n",
    "for element in liste_echantillons:\n",
    "    resultat *= element\n",
    "print(\"Résultat =\", resultat)\n"
   ]
  },
  {
   "cell_type": "code",
   "execution_count": 2,
   "id": "406da427-3ab4-49fa-b9ed-ef3640cc6b03",
   "metadata": {},
   "outputs": [
    {
     "name": "stdout",
     "output_type": "stream",
     "text": [
      "Résultat escompté : [(2, 1), (1, 2), (2, 3), (4, 4), (2, 5)]\n"
     ]
    }
   ],
   "source": [
    "liste_echantillons = [(2, 5), (1, 2), (4, 4), (2, 3), (2, 1)]\n",
    "resultat = sorted(liste_echantillons, key=lambda x: x[-1])\n",
    "print(\"Résultat escompté :\", resultat)\n"
   ]
  },
  {
   "cell_type": "code",
   "execution_count": 3,
   "id": "99a72588-f4d8-4af4-9c2d-dd8d6a93ee9c",
   "metadata": {},
   "outputs": [
    {
     "name": "stdout",
     "output_type": "stream",
     "text": [
      "Résultat attendu : {'a': 400, 'b': 400, 'c': 300, 'd': 400}\n"
     ]
    }
   ],
   "source": [
    "d1 = {'a': 100, 'b': 200, 'c': 300}\n",
    "d2 = {'a': 300, 'b': 200, 'd': 400}\n",
    "resultat = d1.copy()\n",
    "for key, value in d2.items():\n",
    "    resultat[key] = resultat.get(key, 0) + value\n",
    "print(\"Résultat attendu :\", resultat)\n"
   ]
  },
  {
   "cell_type": "code",
   "execution_count": 4,
   "id": "6d19b0a5-3350-4282-9886-fd109fa3e196",
   "metadata": {},
   "outputs": [
    {
     "name": "stdin",
     "output_type": "stream",
     "text": [
      "Entrez un nombre entier :  1\n"
     ]
    },
    {
     "name": "stdout",
     "output_type": "stream",
     "text": [
      "{1: 1}\n"
     ]
    }
   ],
   "source": [
    "n = int(input(\"Entrez un nombre entier : \"))\n",
    "resultat = {i: i*i for i in range(1, n+1)}\n",
    "print(resultat)\n"
   ]
  },
  {
   "cell_type": "code",
   "execution_count": 5,
   "id": "d548881d-06f5-4231-8ecb-bf1aa0c13f45",
   "metadata": {},
   "outputs": [
    {
     "name": "stdout",
     "output_type": "stream",
     "text": [
      "Résultat escompté : [('item3', '24.5'), ('item2', '15.10'), ('item1', '12.20')]\n"
     ]
    }
   ],
   "source": [
    "liste = [('item1', '12.20'), ('item2', '15.10'), ('item3', '24.5')]\n",
    "resultat = sorted(liste, key=lambda x: float(x[1]), reverse=True)\n",
    "print(\"Résultat escompté :\", resultat)\n"
   ]
  },
  {
   "cell_type": "code",
   "execution_count": 6,
   "id": "0605e3c1-f043-4b62-870a-316e2244b89c",
   "metadata": {},
   "outputs": [],
   "source": [
    "ensemble = {0, 1, 2, 3, 4}\n"
   ]
  },
  {
   "cell_type": "code",
   "execution_count": 7,
   "id": "b95f75b3-3658-45f2-b3db-2f414bdc1e2f",
   "metadata": {},
   "outputs": [
    {
     "name": "stdout",
     "output_type": "stream",
     "text": [
      "0\n",
      "1\n",
      "2\n",
      "3\n",
      "4\n"
     ]
    }
   ],
   "source": [
    "for element in ensemble:\n",
    "    print(element)\n"
   ]
  },
  {
   "cell_type": "code",
   "execution_count": 8,
   "id": "0ba113c4-eef1-4529-8de8-a853d4e18d15",
   "metadata": {},
   "outputs": [
    {
     "name": "stdout",
     "output_type": "stream",
     "text": [
      "{0, 1, 2, 4, 5}\n"
     ]
    }
   ],
   "source": [
    "ensemble.add(5)  # Ajoute l'élément 5 à l'ensemble\n",
    "ensemble.remove(3)  # Supprime l'élément 3 de l'ensemble\n",
    "print(ensemble)\n"
   ]
  },
  {
   "cell_type": "code",
   "execution_count": null,
   "id": "35fc812d-43c3-4135-88d5-10f28b2cb2b4",
   "metadata": {},
   "outputs": [],
   "source": []
  }
 ],
 "metadata": {
  "kernelspec": {
   "display_name": "Python 3 (ipykernel)",
   "language": "python",
   "name": "python3"
  },
  "language_info": {
   "codemirror_mode": {
    "name": "ipython",
    "version": 3
   },
   "file_extension": ".py",
   "mimetype": "text/x-python",
   "name": "python",
   "nbconvert_exporter": "python",
   "pygments_lexer": "ipython3",
   "version": "3.11.7"
  }
 },
 "nbformat": 4,
 "nbformat_minor": 5
}
